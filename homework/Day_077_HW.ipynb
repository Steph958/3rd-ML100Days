{
 "cells": [
  {
   "cell_type": "markdown",
   "metadata": {},
   "source": [
    "## Work\n",
    "1. 請將 Epoch 加到 500 個，並觀察 learning curve 的走勢\n",
    "2. 請將 Optimizer 換成 SGD，並觀察 learning curve 的走勢"
   ]
  },
  {
   "cell_type": "code",
   "execution_count": 1,
   "metadata": {},
   "outputs": [
    {
     "name": "stderr",
     "output_type": "stream",
     "text": [
      "Using TensorFlow backend.\n"
     ]
    }
   ],
   "source": [
    "import os\n",
    "import keras\n",
    "\n",
    "# 本作業可以不需使用 GPU, 將 GPU 設定為 \"無\" (若有 GPU 且想開啟，可設為 \"0\")\n",
    "os.environ[\"CUDA_VISIBLE_DEVICES\"] = \"\""
   ]
  },
  {
   "cell_type": "code",
   "execution_count": 2,
   "metadata": {},
   "outputs": [],
   "source": [
    "# 從 Keras 的內建功能中，取得 train 與 test 資料集\n",
    "train, test = keras.datasets.cifar10.load_data()"
   ]
  },
  {
   "cell_type": "code",
   "execution_count": 3,
   "metadata": {},
   "outputs": [],
   "source": [
    "# 將 X 與 Y 獨立放進變數\n",
    "x_train, y_train = train\n",
    "x_test, y_test = test\n",
    "# 資料前處理 - 標準化\n",
    "x_train = x_train / 255.\n",
    "x_test = x_test / 255.\n",
    "\n",
    "# 將資料從圖形 (RGB) 轉為向量 (Single Vector)\n",
    "x_train = x_train.reshape((len(x_train), -1))\n",
    "x_test = x_test.reshape((len(x_test), -1))\n",
    "\n",
    "# 將目標轉為 one-hot encoding\n",
    "y_train = keras.utils.to_categorical(y_train, num_classes=10)\n",
    "y_test = keras.utils.to_categorical(y_test, num_classes=10)"
   ]
  },
  {
   "cell_type": "code",
   "execution_count": 4,
   "metadata": {},
   "outputs": [],
   "source": [
    "def build_mlp():\n",
    "    \"\"\"Code Here\n",
    "    建立你的神經網路\n",
    "    \"\"\"\n",
    "    input_layer = keras.layers.Input([x_train.shape[-1]])\n",
    "    x = keras.layers.Dense(units=512, activation=\"relu\")(input_layer)\n",
    "    x = keras.layers.Dense(units=256, activation=\"relu\")(x)\n",
    "    x = keras.layers.Dense(units=128, activation=\"relu\")(x)\n",
    "    out = keras.layers.Dense(units=10, activation=\"softmax\")(x)\n",
    "    \n",
    "    model = keras.models.Model(inputs=[input_layer], outputs=[out])\n",
    "    return model\n",
    "model = build_mlp()"
   ]
  },
  {
   "cell_type": "code",
   "execution_count": 5,
   "metadata": {},
   "outputs": [
    {
     "name": "stdout",
     "output_type": "stream",
     "text": [
      "Model: \"model_1\"\n",
      "_________________________________________________________________\n",
      "Layer (type)                 Output Shape              Param #   \n",
      "=================================================================\n",
      "input_1 (InputLayer)         (None, 3072)              0         \n",
      "_________________________________________________________________\n",
      "dense_1 (Dense)              (None, 512)               1573376   \n",
      "_________________________________________________________________\n",
      "dense_2 (Dense)              (None, 256)               131328    \n",
      "_________________________________________________________________\n",
      "dense_3 (Dense)              (None, 128)               32896     \n",
      "_________________________________________________________________\n",
      "dense_4 (Dense)              (None, 10)                1290      \n",
      "=================================================================\n",
      "Total params: 1,738,890\n",
      "Trainable params: 1,738,890\n",
      "Non-trainable params: 0\n",
      "_________________________________________________________________\n"
     ]
    }
   ],
   "source": [
    "\"\"\"\n",
    "Compile 模型\n",
    "\"\"\"\n",
    "model.summary()\n",
    "\n",
    "optimizer = keras.optimizers.Adam(lr=0.001)\n",
    "model.compile(loss=\"categorical_crossentropy\", metrics=[\"accuracy\"], optimizer=optimizer)"
   ]
  },
  {
   "cell_type": "code",
   "execution_count": null,
   "metadata": {
    "scrolled": true
   },
   "outputs": [
    {
     "name": "stdout",
     "output_type": "stream",
     "text": [
      "Train on 50000 samples, validate on 10000 samples\n",
      "Epoch 1/500\n",
      "50000/50000 [==============================] - 8s 156us/step - loss: 1.9386 - accuracy: 0.3040 - val_loss: 1.8006 - val_accuracy: 0.3554\n",
      "Epoch 2/500\n",
      "50000/50000 [==============================] - 7s 134us/step - loss: 1.7244 - accuracy: 0.3821 - val_loss: 1.6638 - val_accuracy: 0.4060\n",
      "Epoch 3/500\n",
      "50000/50000 [==============================] - 7s 133us/step - loss: 1.6181 - accuracy: 0.4227 - val_loss: 1.6224 - val_accuracy: 0.4335\n",
      "Epoch 4/500\n",
      "50000/50000 [==============================] - 7s 140us/step - loss: 1.5573 - accuracy: 0.4467 - val_loss: 1.5511 - val_accuracy: 0.4450\n",
      "Epoch 5/500\n",
      "50000/50000 [==============================] - 7s 131us/step - loss: 1.5133 - accuracy: 0.4616 - val_loss: 1.5133 - val_accuracy: 0.4539\n",
      "Epoch 6/500\n",
      "50000/50000 [==============================] - 7s 133us/step - loss: 1.4669 - accuracy: 0.4776 - val_loss: 1.5250 - val_accuracy: 0.4537\n",
      "Epoch 7/500\n",
      "50000/50000 [==============================] - 7s 142us/step - loss: 1.4412 - accuracy: 0.4855 - val_loss: 1.4744 - val_accuracy: 0.4796\n",
      "Epoch 8/500\n",
      "50000/50000 [==============================] - 7s 141us/step - loss: 1.4151 - accuracy: 0.4945 - val_loss: 1.4746 - val_accuracy: 0.4733\n",
      "Epoch 9/500\n",
      "50000/50000 [==============================] - 7s 137us/step - loss: 1.3821 - accuracy: 0.5093 - val_loss: 1.4161 - val_accuracy: 0.5041\n",
      "Epoch 10/500\n",
      "50000/50000 [==============================] - 7s 133us/step - loss: 1.3559 - accuracy: 0.5151 - val_loss: 1.4210 - val_accuracy: 0.4938\n",
      "Epoch 11/500\n",
      "50000/50000 [==============================] - 8s 153us/step - loss: 1.3296 - accuracy: 0.5256 - val_loss: 1.4064 - val_accuracy: 0.5019\n",
      "Epoch 12/500\n",
      "50000/50000 [==============================] - 7s 147us/step - loss: 1.3115 - accuracy: 0.5330 - val_loss: 1.3951 - val_accuracy: 0.5031\n",
      "Epoch 13/500\n",
      "50000/50000 [==============================] - 7s 135us/step - loss: 1.2870 - accuracy: 0.5424 - val_loss: 1.3825 - val_accuracy: 0.5099\n",
      "Epoch 14/500\n",
      "50000/50000 [==============================] - 7s 148us/step - loss: 1.2516 - accuracy: 0.5553 - val_loss: 1.4613 - val_accuracy: 0.4785\n",
      "Epoch 15/500\n",
      "50000/50000 [==============================] - 8s 155us/step - loss: 1.2417 - accuracy: 0.5577 - val_loss: 1.4120 - val_accuracy: 0.5033\n",
      "Epoch 16/500\n",
      "50000/50000 [==============================] - 7s 141us/step - loss: 1.2237 - accuracy: 0.5644 - val_loss: 1.3964 - val_accuracy: 0.5105\n",
      "Epoch 17/500\n",
      "50000/50000 [==============================] - 7s 138us/step - loss: 1.2022 - accuracy: 0.5692 - val_loss: 1.3589 - val_accuracy: 0.5240\n",
      "Epoch 18/500\n",
      "50000/50000 [==============================] - 7s 140us/step - loss: 1.1815 - accuracy: 0.5804 - val_loss: 1.3814 - val_accuracy: 0.5103\n",
      "Epoch 19/500\n",
      "50000/50000 [==============================] - 7s 135us/step - loss: 1.1595 - accuracy: 0.5854 - val_loss: 1.4142 - val_accuracy: 0.5033\n",
      "Epoch 20/500\n",
      "50000/50000 [==============================] - 7s 137us/step - loss: 1.1402 - accuracy: 0.5934 - val_loss: 1.3971 - val_accuracy: 0.5144\n",
      "Epoch 21/500\n",
      "50000/50000 [==============================] - 7s 136us/step - loss: 1.1309 - accuracy: 0.5978 - val_loss: 1.3728 - val_accuracy: 0.5275\n",
      "Epoch 22/500\n",
      "50000/50000 [==============================] - 7s 148us/step - loss: 1.0992 - accuracy: 0.6085 - val_loss: 1.3935 - val_accuracy: 0.5245\n",
      "Epoch 23/500\n",
      "50000/50000 [==============================] - 7s 146us/step - loss: 1.0967 - accuracy: 0.6093 - val_loss: 1.3571 - val_accuracy: 0.5305\n",
      "Epoch 24/500\n",
      "50000/50000 [==============================] - 6s 127us/step - loss: 1.0671 - accuracy: 0.6188 - val_loss: 1.4008 - val_accuracy: 0.5190\n",
      "Epoch 25/500\n",
      "50000/50000 [==============================] - 6s 123us/step - loss: 1.0465 - accuracy: 0.6265 - val_loss: 1.3803 - val_accuracy: 0.5247\n",
      "Epoch 26/500\n",
      "50000/50000 [==============================] - 6s 122us/step - loss: 1.0280 - accuracy: 0.6324 - val_loss: 1.4333 - val_accuracy: 0.5116\n",
      "Epoch 27/500\n",
      "50000/50000 [==============================] - 6s 128us/step - loss: 1.0194 - accuracy: 0.6378 - val_loss: 1.3933 - val_accuracy: 0.5301\n",
      "Epoch 28/500\n",
      "26368/50000 [==============>...............] - ETA: 2s - loss: 0.9784 - accuracy: 0.6511"
     ]
    }
   ],
   "source": [
    "\"\"\"\n",
    "設定要訓練的 Epoch 數\n",
    "\"\"\"\n",
    "model.fit(x_train, y_train, \n",
    "          epochs=500, \n",
    "          batch_size=256, \n",
    "          validation_data=(x_test, y_test), \n",
    "          shuffle=True)"
   ]
  },
  {
   "cell_type": "code",
   "execution_count": null,
   "metadata": {},
   "outputs": [],
   "source": [
    "import matplotlib.pyplot as plt\n",
    "# 以視覺畫方式檢視訓練過程\n",
    "\n",
    "train_loss = model.history.history[\"loss\"]\n",
    "valid_loss = model.history.history[\"val_loss\"]\n",
    "\n",
    "train_acc = model.history.history[\"accuracy\"]\n",
    "valid_acc = model.history.history[\"val_accuracy\"]\n",
    "\n",
    "plt.plot(range(len(train_loss)), train_loss, label=\"train loss\")\n",
    "plt.plot(range(len(valid_loss)), valid_loss, label=\"valid loss\")\n",
    "plt.legend()\n",
    "plt.title(\"Loss\")\n",
    "plt.show()\n",
    "\n",
    "plt.plot(range(len(train_acc)), train_acc, label=\"train accuracy\")\n",
    "plt.plot(range(len(valid_acc)), valid_acc, label=\"valid accuracy\")\n",
    "plt.legend()\n",
    "plt.title(\"Accuracy\")\n",
    "plt.show()"
   ]
  }
 ],
 "metadata": {
  "kernelspec": {
   "display_name": "Python 3",
   "language": "python",
   "name": "python3"
  },
  "language_info": {
   "codemirror_mode": {
    "name": "ipython",
    "version": 3
   },
   "file_extension": ".py",
   "mimetype": "text/x-python",
   "name": "python",
   "nbconvert_exporter": "python",
   "pygments_lexer": "ipython3",
   "version": "3.7.3"
  }
 },
 "nbformat": 4,
 "nbformat_minor": 2
}
