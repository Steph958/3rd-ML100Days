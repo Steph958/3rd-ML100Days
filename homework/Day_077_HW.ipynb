{
 "cells": [
  {
   "cell_type": "markdown",
   "metadata": {},
   "source": [
    "## Work\n",
    "1. 請將 Epoch 加到 500 個，並觀察 learning curve 的走勢\n",
    "2. 請將 Optimizer 換成 SGD，並觀察 learning curve 的走勢"
   ]
  },
  {
   "cell_type": "code",
   "execution_count": 1,
   "metadata": {},
   "outputs": [
    {
     "name": "stderr",
     "output_type": "stream",
     "text": [
      "Using TensorFlow backend.\n"
     ]
    }
   ],
   "source": [
    "import os\n",
    "import keras\n",
    "\n",
    "# 本作業可以不需使用 GPU, 將 GPU 設定為 \"無\" (若有 GPU 且想開啟，可設為 \"0\")\n",
    "os.environ[\"CUDA_VISIBLE_DEVICES\"] = \"\""
   ]
  },
  {
   "cell_type": "code",
   "execution_count": 2,
   "metadata": {},
   "outputs": [],
   "source": [
    "# 從 Keras 的內建功能中，取得 train 與 test 資料集\n",
    "train, test = keras.datasets.cifar10.load_data()"
   ]
  },
  {
   "cell_type": "code",
   "execution_count": 3,
   "metadata": {},
   "outputs": [],
   "source": [
    "# 將 X 與 Y 獨立放進變數\n",
    "x_train, y_train = train\n",
    "x_test, y_test = test\n",
    "# 資料前處理 - 標準化\n",
    "x_train = x_train / 255.\n",
    "x_test = x_test / 255.\n",
    "\n",
    "# 將資料從圖形 (RGB) 轉為向量 (Single Vector)\n",
    "x_train = x_train.reshape((len(x_train), -1))\n",
    "x_test = x_test.reshape((len(x_test), -1))\n",
    "\n",
    "# 將目標轉為 one-hot encoding\n",
    "y_train = keras.utils.to_categorical(y_train, num_classes=10)\n",
    "y_test = keras.utils.to_categorical(y_test, num_classes=10)"
   ]
  },
  {
   "cell_type": "code",
   "execution_count": 4,
   "metadata": {},
   "outputs": [],
   "source": [
    "def build_mlp():\n",
    "    \"\"\"Code Here\n",
    "    建立你的神經網路\n",
    "    \"\"\"\n",
    "    input_layer = keras.layers.Input([x_train.shape[-1]])\n",
    "    x = keras.layers.Dense(units=512, activation=\"relu\")(input_layer)\n",
    "    x = keras.layers.Dense(units=256, activation=\"relu\")(x)\n",
    "    x = keras.layers.Dense(units=128, activation=\"relu\")(x)\n",
    "    out = keras.layers.Dense(units=10, activation=\"softmax\")(x)\n",
    "    \n",
    "    model = keras.models.Model(inputs=[input_layer], outputs=[out])\n",
    "    return model\n",
    "model = build_mlp()"
   ]
  },
  {
   "cell_type": "code",
   "execution_count": 5,
   "metadata": {},
   "outputs": [
    {
     "name": "stdout",
     "output_type": "stream",
     "text": [
      "Model: \"model_1\"\n",
      "_________________________________________________________________\n",
      "Layer (type)                 Output Shape              Param #   \n",
      "=================================================================\n",
      "input_1 (InputLayer)         (None, 3072)              0         \n",
      "_________________________________________________________________\n",
      "dense_1 (Dense)              (None, 512)               1573376   \n",
      "_________________________________________________________________\n",
      "dense_2 (Dense)              (None, 256)               131328    \n",
      "_________________________________________________________________\n",
      "dense_3 (Dense)              (None, 128)               32896     \n",
      "_________________________________________________________________\n",
      "dense_4 (Dense)              (None, 10)                1290      \n",
      "=================================================================\n",
      "Total params: 1,738,890\n",
      "Trainable params: 1,738,890\n",
      "Non-trainable params: 0\n",
      "_________________________________________________________________\n"
     ]
    }
   ],
   "source": [
    "\"\"\"\n",
    "Compile 模型\n",
    "\"\"\"\n",
    "model.summary()\n",
    "\n",
    "optimizer = keras.optimizers.SGD(lr=0.001)\n",
    "model.compile(loss=\"categorical_crossentropy\", metrics=[\"accuracy\"], optimizer=optimizer)"
   ]
  },
  {
   "cell_type": "code",
   "execution_count": 6,
   "metadata": {
    "scrolled": false
   },
   "outputs": [
    {
     "name": "stdout",
     "output_type": "stream",
     "text": [
      "Train on 50000 samples, validate on 10000 samples\n",
      "Epoch 1/50\n",
      "50000/50000 [==============================] - 5s 104us/step - loss: 2.2853 - accuracy: 0.1335 - val_loss: 2.2407 - val_accuracy: 0.1839\n",
      "Epoch 2/50\n",
      "50000/50000 [==============================] - 5s 93us/step - loss: 2.2133 - accuracy: 0.2067 - val_loss: 2.1850 - val_accuracy: 0.2311\n",
      "Epoch 3/50\n",
      "50000/50000 [==============================] - 4s 90us/step - loss: 2.1628 - accuracy: 0.2360 - val_loss: 2.1395 - val_accuracy: 0.2458\n",
      "Epoch 4/50\n",
      "50000/50000 [==============================] - 5s 92us/step - loss: 2.1205 - accuracy: 0.2514 - val_loss: 2.1004 - val_accuracy: 0.2623\n",
      "Epoch 5/50\n",
      "50000/50000 [==============================] - 5s 92us/step - loss: 2.0835 - accuracy: 0.2694 - val_loss: 2.0663 - val_accuracy: 0.2748\n",
      "Epoch 6/50\n",
      "50000/50000 [==============================] - 5s 94us/step - loss: 2.0506 - accuracy: 0.2832 - val_loss: 2.0349 - val_accuracy: 0.2921\n",
      "Epoch 7/50\n",
      "50000/50000 [==============================] - 5s 94us/step - loss: 2.0214 - accuracy: 0.2962 - val_loss: 2.0087 - val_accuracy: 0.3016\n",
      "Epoch 8/50\n",
      "50000/50000 [==============================] - 5s 93us/step - loss: 1.9962 - accuracy: 0.3048 - val_loss: 1.9854 - val_accuracy: 0.3074\n",
      "Epoch 9/50\n",
      "50000/50000 [==============================] - 5s 96us/step - loss: 1.9737 - accuracy: 0.3088 - val_loss: 1.9650 - val_accuracy: 0.3169\n",
      "Epoch 10/50\n",
      "50000/50000 [==============================] - 5s 94us/step - loss: 1.9540 - accuracy: 0.3157 - val_loss: 1.9462 - val_accuracy: 0.3234\n",
      "Epoch 11/50\n",
      "50000/50000 [==============================] - 5s 95us/step - loss: 1.9368 - accuracy: 0.3213 - val_loss: 1.9305 - val_accuracy: 0.3243\n",
      "Epoch 12/50\n",
      "50000/50000 [==============================] - 5s 92us/step - loss: 1.9209 - accuracy: 0.3284 - val_loss: 1.9145 - val_accuracy: 0.3315\n",
      "Epoch 13/50\n",
      "50000/50000 [==============================] - 5s 96us/step - loss: 1.9065 - accuracy: 0.3327 - val_loss: 1.9012 - val_accuracy: 0.3362\n",
      "Epoch 14/50\n",
      "50000/50000 [==============================] - 5s 94us/step - loss: 1.8935 - accuracy: 0.3368 - val_loss: 1.8911 - val_accuracy: 0.3417\n",
      "Epoch 15/50\n",
      "50000/50000 [==============================] - 5s 97us/step - loss: 1.8823 - accuracy: 0.3414 - val_loss: 1.8792 - val_accuracy: 0.3403\n",
      "Epoch 16/50\n",
      "50000/50000 [==============================] - 5s 94us/step - loss: 1.8717 - accuracy: 0.3445 - val_loss: 1.8698 - val_accuracy: 0.3467\n",
      "Epoch 17/50\n",
      "50000/50000 [==============================] - 5s 94us/step - loss: 1.8623 - accuracy: 0.3489 - val_loss: 1.8604 - val_accuracy: 0.3517\n",
      "Epoch 18/50\n",
      "50000/50000 [==============================] - 5s 93us/step - loss: 1.8534 - accuracy: 0.3521 - val_loss: 1.8519 - val_accuracy: 0.3535\n",
      "Epoch 19/50\n",
      "50000/50000 [==============================] - 5s 96us/step - loss: 1.8451 - accuracy: 0.3549 - val_loss: 1.8446 - val_accuracy: 0.3562\n",
      "Epoch 20/50\n",
      "50000/50000 [==============================] - 5s 93us/step - loss: 1.8373 - accuracy: 0.3568 - val_loss: 1.8369 - val_accuracy: 0.3588\n",
      "Epoch 21/50\n",
      "50000/50000 [==============================] - 5s 95us/step - loss: 1.8299 - accuracy: 0.3598 - val_loss: 1.8298 - val_accuracy: 0.3629\n",
      "Epoch 22/50\n",
      "50000/50000 [==============================] - 5s 101us/step - loss: 1.8231 - accuracy: 0.3622 - val_loss: 1.8239 - val_accuracy: 0.3618\n",
      "Epoch 23/50\n",
      "50000/50000 [==============================] - 5s 96us/step - loss: 1.8165 - accuracy: 0.3648 - val_loss: 1.8166 - val_accuracy: 0.3677\n",
      "Epoch 24/50\n",
      "50000/50000 [==============================] - 5s 93us/step - loss: 1.8099 - accuracy: 0.3676 - val_loss: 1.8112 - val_accuracy: 0.3683\n",
      "Epoch 25/50\n",
      "50000/50000 [==============================] - 5s 93us/step - loss: 1.8038 - accuracy: 0.3711 - val_loss: 1.8047 - val_accuracy: 0.3739\n",
      "Epoch 26/50\n",
      "50000/50000 [==============================] - 5s 96us/step - loss: 1.7981 - accuracy: 0.3717 - val_loss: 1.7986 - val_accuracy: 0.3757\n",
      "Epoch 27/50\n",
      "50000/50000 [==============================] - 5s 94us/step - loss: 1.7924 - accuracy: 0.3746 - val_loss: 1.7945 - val_accuracy: 0.3769\n",
      "Epoch 28/50\n",
      "50000/50000 [==============================] - 5s 99us/step - loss: 1.7868 - accuracy: 0.3756 - val_loss: 1.7889 - val_accuracy: 0.3755\n",
      "Epoch 29/50\n",
      "50000/50000 [==============================] - 5s 93us/step - loss: 1.7817 - accuracy: 0.3787 - val_loss: 1.7842 - val_accuracy: 0.3794\n",
      "Epoch 30/50\n",
      "50000/50000 [==============================] - 5s 95us/step - loss: 1.7766 - accuracy: 0.3791 - val_loss: 1.7779 - val_accuracy: 0.3789\n",
      "Epoch 31/50\n",
      "50000/50000 [==============================] - 5s 93us/step - loss: 1.7717 - accuracy: 0.3801 - val_loss: 1.7726 - val_accuracy: 0.3831\n",
      "Epoch 32/50\n",
      "50000/50000 [==============================] - 5s 93us/step - loss: 1.7668 - accuracy: 0.3828 - val_loss: 1.7685 - val_accuracy: 0.3825\n",
      "Epoch 33/50\n",
      "50000/50000 [==============================] - 5s 96us/step - loss: 1.7621 - accuracy: 0.3848 - val_loss: 1.7646 - val_accuracy: 0.3819\n",
      "Epoch 34/50\n",
      "50000/50000 [==============================] - 5s 93us/step - loss: 1.7576 - accuracy: 0.3858 - val_loss: 1.7600 - val_accuracy: 0.3853\n",
      "Epoch 35/50\n",
      "50000/50000 [==============================] - 5s 95us/step - loss: 1.7531 - accuracy: 0.3869 - val_loss: 1.7553 - val_accuracy: 0.3890\n",
      "Epoch 36/50\n",
      "50000/50000 [==============================] - 5s 95us/step - loss: 1.7488 - accuracy: 0.3894 - val_loss: 1.7504 - val_accuracy: 0.3886\n",
      "Epoch 37/50\n",
      "50000/50000 [==============================] - 5s 97us/step - loss: 1.7445 - accuracy: 0.3908 - val_loss: 1.7467 - val_accuracy: 0.3904\n",
      "Epoch 38/50\n",
      "50000/50000 [==============================] - 5s 95us/step - loss: 1.7404 - accuracy: 0.3911 - val_loss: 1.7421 - val_accuracy: 0.3948\n",
      "Epoch 39/50\n",
      "50000/50000 [==============================] - 5s 99us/step - loss: 1.7364 - accuracy: 0.3929 - val_loss: 1.7407 - val_accuracy: 0.3879\n",
      "Epoch 40/50\n",
      "50000/50000 [==============================] - 5s 95us/step - loss: 1.7327 - accuracy: 0.3939 - val_loss: 1.7357 - val_accuracy: 0.3934\n",
      "Epoch 41/50\n",
      "50000/50000 [==============================] - 5s 96us/step - loss: 1.7287 - accuracy: 0.3956 - val_loss: 1.7320 - val_accuracy: 0.3946\n",
      "Epoch 42/50\n",
      "50000/50000 [==============================] - 5s 100us/step - loss: 1.7252 - accuracy: 0.3975 - val_loss: 1.7281 - val_accuracy: 0.3964\n",
      "Epoch 43/50\n",
      "50000/50000 [==============================] - 5s 95us/step - loss: 1.7215 - accuracy: 0.3965 - val_loss: 1.7246 - val_accuracy: 0.3986\n",
      "Epoch 44/50\n",
      "50000/50000 [==============================] - 5s 92us/step - loss: 1.7179 - accuracy: 0.4001 - val_loss: 1.7225 - val_accuracy: 0.4000\n",
      "Epoch 45/50\n",
      "50000/50000 [==============================] - 5s 96us/step - loss: 1.7143 - accuracy: 0.4014 - val_loss: 1.7182 - val_accuracy: 0.3979\n",
      "Epoch 46/50\n",
      "50000/50000 [==============================] - 5s 94us/step - loss: 1.7111 - accuracy: 0.4018 - val_loss: 1.7142 - val_accuracy: 0.3999\n",
      "Epoch 47/50\n",
      "50000/50000 [==============================] - 5s 99us/step - loss: 1.7076 - accuracy: 0.4027 - val_loss: 1.7112 - val_accuracy: 0.4022\n",
      "Epoch 48/50\n",
      "50000/50000 [==============================] - 5s 96us/step - loss: 1.7042 - accuracy: 0.4035 - val_loss: 1.7101 - val_accuracy: 0.4050\n",
      "Epoch 49/50\n",
      "50000/50000 [==============================] - 5s 97us/step - loss: 1.7007 - accuracy: 0.4040 - val_loss: 1.7050 - val_accuracy: 0.4048\n",
      "Epoch 50/50\n",
      "50000/50000 [==============================] - 5s 95us/step - loss: 1.6977 - accuracy: 0.4061 - val_loss: 1.7023 - val_accuracy: 0.4058\n"
     ]
    },
    {
     "data": {
      "text/plain": [
       "<keras.callbacks.callbacks.History at 0x656735eb8>"
      ]
     },
     "execution_count": 6,
     "metadata": {},
     "output_type": "execute_result"
    }
   ],
   "source": [
    "\"\"\"\n",
    "設定要訓練的 Epoch 數\n",
    "\"\"\"\n",
    "model.fit(x_train, y_train, \n",
    "          epochs=50, \n",
    "          batch_size=256, \n",
    "          validation_data=(x_test, y_test), \n",
    "          shuffle=True)"
   ]
  },
  {
   "cell_type": "code",
   "execution_count": 7,
   "metadata": {},
   "outputs": [
    {
     "data": {
      "text/plain": [
       "<Figure size 640x480 with 1 Axes>"
      ]
     },
     "metadata": {},
     "output_type": "display_data"
    },
    {
     "data": {
      "text/plain": [
       "<Figure size 640x480 with 1 Axes>"
      ]
     },
     "metadata": {},
     "output_type": "display_data"
    }
   ],
   "source": [
    "import matplotlib.pyplot as plt\n",
    "# 以視覺畫方式檢視訓練過程\n",
    "\n",
    "train_loss = model.history.history[\"loss\"]\n",
    "valid_loss = model.history.history[\"val_loss\"]\n",
    "\n",
    "train_acc = model.history.history[\"accuracy\"]\n",
    "valid_acc = model.history.history[\"val_accuracy\"]\n",
    "\n",
    "plt.plot(range(len(train_loss)), train_loss, label=\"train loss\")\n",
    "plt.plot(range(len(valid_loss)), valid_loss, label=\"valid loss\")\n",
    "plt.legend()\n",
    "plt.title(\"Loss\")\n",
    "plt.show()\n",
    "\n",
    "plt.plot(range(len(train_acc)), train_acc, label=\"train accuracy\")\n",
    "plt.plot(range(len(valid_acc)), valid_acc, label=\"valid accuracy\")\n",
    "plt.legend()\n",
    "plt.title(\"Accuracy\")\n",
    "plt.show()"
   ]
  }
 ],
 "metadata": {
  "kernelspec": {
   "display_name": "Python 3",
   "language": "python",
   "name": "python3"
  },
  "language_info": {
   "codemirror_mode": {
    "name": "ipython",
    "version": 3
   },
   "file_extension": ".py",
   "mimetype": "text/x-python",
   "name": "python",
   "nbconvert_exporter": "python",
   "pygments_lexer": "ipython3",
   "version": "3.7.3"
  }
 },
 "nbformat": 4,
 "nbformat_minor": 2
}
