{
 "cells": [
  {
   "cell_type": "markdown",
   "metadata": {},
   "source": [
    "## Work\n",
    "1. 請嘗試將 preproc_x 替換成以每筆資料的 min/max 進行標準化至 -1 ~ 1 間，再進行訓練\n",
    "2. 請嘗試將 mlp 疊更深 (e.g 5~10 層)，進行訓練後觀察 learning curve 的走勢\n",
    "3. (optional) 請改用 GPU 進行訓練 (如果你有 GPU 的話)，比較使用 CPU 與 GPU 的訓練速度"
   ]
  },
  {
   "cell_type": "code",
   "execution_count": 3,
   "metadata": {},
   "outputs": [
    {
     "name": "stdout",
     "output_type": "stream",
     "text": [
      "/bin/sh: nvidia-smi: command not found\r\n"
     ]
    }
   ],
   "source": [
    "## \n",
    "\"\"\"\n",
    "Your code here (optional)\n",
    "確認硬體資源\n",
    "\"\"\"\n",
    "!nvidia-smi"
   ]
  },
  {
   "cell_type": "code",
   "execution_count": 4,
   "metadata": {},
   "outputs": [
    {
     "name": "stderr",
     "output_type": "stream",
     "text": [
      "Using TensorFlow backend.\n"
     ]
    }
   ],
   "source": [
    "import os\n",
    "import keras\n",
    "\n",
    "# 請嘗試設定 GPU：os.environ\n",
    "os.environ[\"CUDA_VISIBLE_DEVICES\"] = \"\""
   ]
  },
  {
   "cell_type": "code",
   "execution_count": 5,
   "metadata": {},
   "outputs": [],
   "source": [
    "train, test = keras.datasets.cifar10.load_data()"
   ]
  },
  {
   "cell_type": "code",
   "execution_count": 6,
   "metadata": {},
   "outputs": [],
   "source": [
    "## 資料前處理\n",
    "\"\"\"\n",
    "Your code here\n",
    "\"\"\"\n",
    "def preproc_x(x, flatten=True):\n",
    "    x = 2*(((x - x.min()) / (x.max() - x.min()))-0.5)\n",
    "    if flatten:\n",
    "        x = x.reshape((len(x), -1))\n",
    "    return x\n",
    "\n",
    "def preproc_y(y, num_classes=10):\n",
    "    if y.shape[-1] == 1:\n",
    "        y = keras.utils.to_categorical(y, num_classes)\n",
    "    return y  "
   ]
  },
  {
   "cell_type": "code",
   "execution_count": 7,
   "metadata": {},
   "outputs": [],
   "source": [
    "x_train, y_train = train\n",
    "x_test, y_test = test\n",
    "\n",
    "# Preproc the inputs\n",
    "x_train = preproc_x(x_train)\n",
    "x_test = preproc_x(x_test)\n",
    "\n",
    "# Preprc the outputs\n",
    "y_train = preproc_y(y_train)\n",
    "y_test = preproc_y(y_test)"
   ]
  },
  {
   "cell_type": "code",
   "execution_count": 8,
   "metadata": {},
   "outputs": [
    {
     "name": "stdout",
     "output_type": "stream",
     "text": [
      "Model: \"model_1\"\n",
      "_________________________________________________________________\n",
      "Layer (type)                 Output Shape              Param #   \n",
      "=================================================================\n",
      "input_1 (InputLayer)         (None, 3072)              0         \n",
      "_________________________________________________________________\n",
      "hidden_layer1 (Dense)        (None, 512)               1573376   \n",
      "_________________________________________________________________\n",
      "hidden_layer2 (Dense)        (None, 256)               131328    \n",
      "_________________________________________________________________\n",
      "hidden_layer3 (Dense)        (None, 128)               32896     \n",
      "_________________________________________________________________\n",
      "hidden_layer4 (Dense)        (None, 128)               16512     \n",
      "_________________________________________________________________\n",
      "hidden_layer5 (Dense)        (None, 128)               16512     \n",
      "_________________________________________________________________\n",
      "output (Dense)               (None, 10)                1290      \n",
      "=================================================================\n",
      "Total params: 1,771,914\n",
      "Trainable params: 1,771,914\n",
      "Non-trainable params: 0\n",
      "_________________________________________________________________\n"
     ]
    }
   ],
   "source": [
    "\"\"\"Code Here\n",
    "建立你的神經網路\n",
    "\"\"\"\n",
    "def build_mlp(input_shape, output_units=10, num_neurons=[512, 256, 128, 128, 128]):\n",
    "    input_layer = keras.layers.Input(input_shape)\n",
    "    \n",
    "    for i, n_units in enumerate(num_neurons):\n",
    "        if i == 0:\n",
    "            x = keras.layers.Dense(units=n_units, activation=\"relu\", name=\"hidden_layer\"+str(i+1))(input_layer)\n",
    "        else:\n",
    "            x = keras.layers.Dense(units=n_units, activation=\"relu\", name=\"hidden_layer\"+str(i+1))(x)\n",
    "    \n",
    "    out = keras.layers.Dense(units=output_units, activation=\"softmax\", name=\"output\")(x)\n",
    "    \n",
    "    model = keras.models.Model(inputs=[input_layer], outputs=[out])\n",
    "    return model\n",
    "\n",
    "model = build_mlp(input_shape=x_train.shape[1:])\n",
    "model.summary()"
   ]
  },
  {
   "cell_type": "code",
   "execution_count": 9,
   "metadata": {},
   "outputs": [],
   "source": [
    "## 超參數設定\n",
    "LEARNING_RATE = 0.001\n",
    "EPOCHS = 100\n",
    "BATCH_SIZE = 256"
   ]
  },
  {
   "cell_type": "code",
   "execution_count": 10,
   "metadata": {},
   "outputs": [],
   "source": [
    "optimizer = keras.optimizers.Adam(lr=LEARNING_RATE)\n",
    "model.compile(loss=\"categorical_crossentropy\", metrics=[\"accuracy\"], optimizer=optimizer)"
   ]
  },
  {
   "cell_type": "code",
   "execution_count": 11,
   "metadata": {
    "scrolled": false
   },
   "outputs": [
    {
     "name": "stdout",
     "output_type": "stream",
     "text": [
      "Train on 50000 samples, validate on 10000 samples\n",
      "Epoch 1/100\n",
      "50000/50000 [==============================] - 7s 146us/step - loss: 1.6861 - accuracy: 0.4024 - val_loss: 1.5219 - val_accuracy: 0.4566\n",
      "Epoch 2/100\n",
      "50000/50000 [==============================] - 6s 126us/step - loss: 1.4606 - accuracy: 0.4824 - val_loss: 1.4411 - val_accuracy: 0.4898\n",
      "Epoch 3/100\n",
      "50000/50000 [==============================] - 7s 133us/step - loss: 1.3494 - accuracy: 0.5224 - val_loss: 1.3699 - val_accuracy: 0.5134\n",
      "Epoch 4/100\n",
      "50000/50000 [==============================] - 7s 130us/step - loss: 1.2475 - accuracy: 0.5586 - val_loss: 1.3820 - val_accuracy: 0.5133\n",
      "Epoch 5/100\n",
      "50000/50000 [==============================] - 7s 130us/step - loss: 1.1690 - accuracy: 0.5872 - val_loss: 1.3426 - val_accuracy: 0.5340\n",
      "Epoch 6/100\n",
      "50000/50000 [==============================] - 6s 129us/step - loss: 1.0825 - accuracy: 0.6189 - val_loss: 1.3542 - val_accuracy: 0.5348\n",
      "Epoch 7/100\n",
      "50000/50000 [==============================] - 7s 132us/step - loss: 1.0109 - accuracy: 0.6432 - val_loss: 1.3852 - val_accuracy: 0.5325\n",
      "Epoch 8/100\n",
      "50000/50000 [==============================] - 7s 131us/step - loss: 0.9419 - accuracy: 0.6658 - val_loss: 1.4160 - val_accuracy: 0.5295\n",
      "Epoch 9/100\n",
      "50000/50000 [==============================] - 7s 134us/step - loss: 0.8766 - accuracy: 0.6889 - val_loss: 1.4323 - val_accuracy: 0.5268\n",
      "Epoch 10/100\n",
      "50000/50000 [==============================] - 7s 131us/step - loss: 0.8031 - accuracy: 0.7163 - val_loss: 1.4965 - val_accuracy: 0.5290\n",
      "Epoch 11/100\n",
      "50000/50000 [==============================] - 7s 132us/step - loss: 0.7372 - accuracy: 0.7354 - val_loss: 1.5177 - val_accuracy: 0.5407\n",
      "Epoch 12/100\n",
      "50000/50000 [==============================] - 7s 131us/step - loss: 0.6732 - accuracy: 0.7606 - val_loss: 1.5738 - val_accuracy: 0.5378\n",
      "Epoch 13/100\n",
      "50000/50000 [==============================] - 7s 132us/step - loss: 0.6219 - accuracy: 0.7785 - val_loss: 1.6275 - val_accuracy: 0.5394\n",
      "Epoch 14/100\n",
      "50000/50000 [==============================] - 7s 131us/step - loss: 0.5655 - accuracy: 0.7988 - val_loss: 1.7838 - val_accuracy: 0.5311\n",
      "Epoch 15/100\n",
      "50000/50000 [==============================] - 7s 132us/step - loss: 0.5120 - accuracy: 0.8196 - val_loss: 1.8387 - val_accuracy: 0.5255\n",
      "Epoch 16/100\n",
      "50000/50000 [==============================] - 6s 130us/step - loss: 0.4928 - accuracy: 0.8225 - val_loss: 1.9113 - val_accuracy: 0.5243\n",
      "Epoch 17/100\n",
      "50000/50000 [==============================] - 7s 138us/step - loss: 0.4383 - accuracy: 0.8460 - val_loss: 1.9623 - val_accuracy: 0.5348\n",
      "Epoch 18/100\n",
      "50000/50000 [==============================] - 7s 135us/step - loss: 0.4036 - accuracy: 0.8562 - val_loss: 2.0901 - val_accuracy: 0.5295\n",
      "Epoch 19/100\n",
      "50000/50000 [==============================] - 7s 134us/step - loss: 0.3774 - accuracy: 0.8670 - val_loss: 2.1221 - val_accuracy: 0.5319\n",
      "Epoch 20/100\n",
      "50000/50000 [==============================] - 6s 129us/step - loss: 0.3505 - accuracy: 0.8768 - val_loss: 2.2415 - val_accuracy: 0.5329\n",
      "Epoch 21/100\n",
      "50000/50000 [==============================] - 7s 131us/step - loss: 0.3161 - accuracy: 0.8884 - val_loss: 2.3191 - val_accuracy: 0.5218\n",
      "Epoch 22/100\n",
      "50000/50000 [==============================] - 7s 130us/step - loss: 0.3000 - accuracy: 0.8946 - val_loss: 2.4462 - val_accuracy: 0.5279\n",
      "Epoch 23/100\n",
      "50000/50000 [==============================] - 6s 129us/step - loss: 0.2714 - accuracy: 0.9038 - val_loss: 2.7136 - val_accuracy: 0.5276\n",
      "Epoch 24/100\n",
      "50000/50000 [==============================] - 7s 132us/step - loss: 0.2625 - accuracy: 0.9084 - val_loss: 2.5718 - val_accuracy: 0.5255\n",
      "Epoch 25/100\n",
      "50000/50000 [==============================] - 7s 132us/step - loss: 0.2526 - accuracy: 0.9123 - val_loss: 2.6230 - val_accuracy: 0.5293\n",
      "Epoch 26/100\n",
      "50000/50000 [==============================] - 7s 134us/step - loss: 0.2326 - accuracy: 0.9190 - val_loss: 2.8595 - val_accuracy: 0.5301\n",
      "Epoch 27/100\n",
      "50000/50000 [==============================] - 7s 131us/step - loss: 0.2312 - accuracy: 0.9194 - val_loss: 2.7655 - val_accuracy: 0.5292\n",
      "Epoch 28/100\n",
      "50000/50000 [==============================] - 7s 140us/step - loss: 0.2134 - accuracy: 0.9263 - val_loss: 2.9787 - val_accuracy: 0.5260\n",
      "Epoch 29/100\n",
      "50000/50000 [==============================] - 7s 137us/step - loss: 0.2063 - accuracy: 0.9288 - val_loss: 2.9556 - val_accuracy: 0.5269\n",
      "Epoch 30/100\n",
      "50000/50000 [==============================] - 8s 164us/step - loss: 0.1995 - accuracy: 0.9309 - val_loss: 3.0500 - val_accuracy: 0.5275\n",
      "Epoch 31/100\n",
      "50000/50000 [==============================] - 7s 142us/step - loss: 0.1967 - accuracy: 0.9310 - val_loss: 2.9513 - val_accuracy: 0.5296\n",
      "Epoch 32/100\n",
      "50000/50000 [==============================] - 8s 160us/step - loss: 0.1835 - accuracy: 0.9365 - val_loss: 3.2362 - val_accuracy: 0.5326\n",
      "Epoch 33/100\n",
      "50000/50000 [==============================] - 7s 131us/step - loss: 0.1749 - accuracy: 0.9417 - val_loss: 3.1704 - val_accuracy: 0.5274\n",
      "Epoch 34/100\n",
      "50000/50000 [==============================] - 7s 144us/step - loss: 0.1732 - accuracy: 0.9411 - val_loss: 3.2332 - val_accuracy: 0.5237\n",
      "Epoch 35/100\n",
      "50000/50000 [==============================] - 8s 158us/step - loss: 0.1643 - accuracy: 0.9436 - val_loss: 3.2789 - val_accuracy: 0.5197\n",
      "Epoch 36/100\n",
      "50000/50000 [==============================] - 7s 137us/step - loss: 0.1723 - accuracy: 0.9405 - val_loss: 3.2864 - val_accuracy: 0.5352\n",
      "Epoch 37/100\n",
      "50000/50000 [==============================] - 7s 134us/step - loss: 0.1627 - accuracy: 0.9442 - val_loss: 3.3741 - val_accuracy: 0.5318\n",
      "Epoch 38/100\n",
      "50000/50000 [==============================] - 7s 137us/step - loss: 0.1587 - accuracy: 0.9453 - val_loss: 3.3198 - val_accuracy: 0.5286\n",
      "Epoch 39/100\n",
      "50000/50000 [==============================] - 6s 128us/step - loss: 0.1507 - accuracy: 0.9493 - val_loss: 3.3535 - val_accuracy: 0.5300\n",
      "Epoch 40/100\n",
      "50000/50000 [==============================] - 7s 130us/step - loss: 0.1414 - accuracy: 0.9512 - val_loss: 3.3462 - val_accuracy: 0.5272\n",
      "Epoch 41/100\n",
      "50000/50000 [==============================] - 6s 130us/step - loss: 0.1326 - accuracy: 0.9553 - val_loss: 3.5392 - val_accuracy: 0.5322\n",
      "Epoch 42/100\n",
      "50000/50000 [==============================] - 7s 142us/step - loss: 0.1407 - accuracy: 0.9522 - val_loss: 3.5197 - val_accuracy: 0.5245\n",
      "Epoch 43/100\n",
      "50000/50000 [==============================] - 7s 134us/step - loss: 0.1379 - accuracy: 0.9543 - val_loss: 3.6156 - val_accuracy: 0.5374\n",
      "Epoch 44/100\n",
      "50000/50000 [==============================] - 7s 141us/step - loss: 0.1396 - accuracy: 0.9530 - val_loss: 3.5001 - val_accuracy: 0.5345\n",
      "Epoch 45/100\n",
      "50000/50000 [==============================] - 7s 150us/step - loss: 0.1224 - accuracy: 0.9579 - val_loss: 3.7224 - val_accuracy: 0.5281\n",
      "Epoch 46/100\n",
      "50000/50000 [==============================] - 8s 157us/step - loss: 0.1370 - accuracy: 0.9542 - val_loss: 3.5908 - val_accuracy: 0.5244\n",
      "Epoch 47/100\n",
      "50000/50000 [==============================] - 8s 153us/step - loss: 0.1145 - accuracy: 0.9619 - val_loss: 3.7257 - val_accuracy: 0.5289\n",
      "Epoch 48/100\n",
      "50000/50000 [==============================] - 8s 156us/step - loss: 0.1193 - accuracy: 0.9598 - val_loss: 3.8058 - val_accuracy: 0.5305\n",
      "Epoch 49/100\n",
      "50000/50000 [==============================] - 7s 147us/step - loss: 0.1329 - accuracy: 0.9561 - val_loss: 3.8398 - val_accuracy: 0.5261\n",
      "Epoch 50/100\n",
      "50000/50000 [==============================] - 7s 140us/step - loss: 0.1079 - accuracy: 0.9642 - val_loss: 3.7718 - val_accuracy: 0.5247\n",
      "Epoch 51/100\n",
      "50000/50000 [==============================] - 8s 154us/step - loss: 0.1017 - accuracy: 0.9654 - val_loss: 3.9624 - val_accuracy: 0.5277\n",
      "Epoch 52/100\n",
      "50000/50000 [==============================] - 8s 159us/step - loss: 0.1106 - accuracy: 0.9633 - val_loss: 3.7005 - val_accuracy: 0.5307\n",
      "Epoch 53/100\n",
      "50000/50000 [==============================] - 7s 148us/step - loss: 0.1223 - accuracy: 0.9591 - val_loss: 3.9182 - val_accuracy: 0.5347\n",
      "Epoch 54/100\n",
      "50000/50000 [==============================] - 7s 143us/step - loss: 0.1220 - accuracy: 0.9607 - val_loss: 3.7118 - val_accuracy: 0.5268\n",
      "Epoch 55/100\n"
     ]
    },
    {
     "name": "stdout",
     "output_type": "stream",
     "text": [
      "50000/50000 [==============================] - 7s 145us/step - loss: 0.0980 - accuracy: 0.9667 - val_loss: 3.9264 - val_accuracy: 0.5286\n",
      "Epoch 56/100\n",
      "50000/50000 [==============================] - 7s 146us/step - loss: 0.1144 - accuracy: 0.9623 - val_loss: 3.7636 - val_accuracy: 0.5293\n",
      "Epoch 57/100\n",
      "50000/50000 [==============================] - 7s 149us/step - loss: 0.1095 - accuracy: 0.9643 - val_loss: 3.9266 - val_accuracy: 0.5277\n",
      "Epoch 58/100\n",
      "50000/50000 [==============================] - 7s 147us/step - loss: 0.1012 - accuracy: 0.9663 - val_loss: 4.0834 - val_accuracy: 0.5255\n",
      "Epoch 59/100\n",
      "50000/50000 [==============================] - 7s 149us/step - loss: 0.1106 - accuracy: 0.9635 - val_loss: 3.9523 - val_accuracy: 0.5278\n",
      "Epoch 60/100\n",
      "50000/50000 [==============================] - 7s 133us/step - loss: 0.1072 - accuracy: 0.9646 - val_loss: 3.8513 - val_accuracy: 0.5328\n",
      "Epoch 61/100\n",
      "50000/50000 [==============================] - 7s 138us/step - loss: 0.0847 - accuracy: 0.9720 - val_loss: 4.0912 - val_accuracy: 0.5298\n",
      "Epoch 62/100\n",
      "50000/50000 [==============================] - 8s 163us/step - loss: 0.1134 - accuracy: 0.9627 - val_loss: 3.7650 - val_accuracy: 0.5271\n",
      "Epoch 63/100\n",
      "50000/50000 [==============================] - 8s 150us/step - loss: 0.0956 - accuracy: 0.9676 - val_loss: 3.9625 - val_accuracy: 0.5316\n",
      "Epoch 64/100\n",
      "50000/50000 [==============================] - 7s 149us/step - loss: 0.0975 - accuracy: 0.9675 - val_loss: 3.8675 - val_accuracy: 0.5359\n",
      "Epoch 65/100\n",
      "50000/50000 [==============================] - 7s 143us/step - loss: 0.0963 - accuracy: 0.9685 - val_loss: 4.0270 - val_accuracy: 0.5337\n",
      "Epoch 66/100\n",
      "50000/50000 [==============================] - 7s 143us/step - loss: 0.0824 - accuracy: 0.9733 - val_loss: 4.0257 - val_accuracy: 0.5321\n",
      "Epoch 67/100\n",
      "50000/50000 [==============================] - 7s 139us/step - loss: 0.1055 - accuracy: 0.9663 - val_loss: 3.9482 - val_accuracy: 0.5283\n",
      "Epoch 68/100\n",
      "50000/50000 [==============================] - 8s 155us/step - loss: 0.0896 - accuracy: 0.9709 - val_loss: 3.9846 - val_accuracy: 0.5282\n",
      "Epoch 69/100\n",
      "50000/50000 [==============================] - 7s 148us/step - loss: 0.0849 - accuracy: 0.9718 - val_loss: 4.1187 - val_accuracy: 0.5289\n",
      "Epoch 70/100\n",
      "50000/50000 [==============================] - 8s 164us/step - loss: 0.1015 - accuracy: 0.9664 - val_loss: 4.0505 - val_accuracy: 0.5279\n",
      "Epoch 71/100\n",
      "50000/50000 [==============================] - 7s 145us/step - loss: 0.0757 - accuracy: 0.9746 - val_loss: 4.2241 - val_accuracy: 0.5301\n",
      "Epoch 72/100\n",
      "50000/50000 [==============================] - 8s 152us/step - loss: 0.0875 - accuracy: 0.9706 - val_loss: 3.9008 - val_accuracy: 0.5363\n",
      "Epoch 73/100\n",
      "50000/50000 [==============================] - 7s 148us/step - loss: 0.0844 - accuracy: 0.9727 - val_loss: 4.0800 - val_accuracy: 0.5262\n",
      "Epoch 74/100\n",
      "50000/50000 [==============================] - 7s 138us/step - loss: 0.0901 - accuracy: 0.9712 - val_loss: 4.1437 - val_accuracy: 0.5249\n",
      "Epoch 75/100\n",
      "50000/50000 [==============================] - 7s 141us/step - loss: 0.0676 - accuracy: 0.9774 - val_loss: 4.3587 - val_accuracy: 0.5303\n",
      "Epoch 76/100\n",
      "50000/50000 [==============================] - 7s 145us/step - loss: 0.0841 - accuracy: 0.9724 - val_loss: 4.2540 - val_accuracy: 0.5307\n",
      "Epoch 77/100\n",
      "50000/50000 [==============================] - 7s 145us/step - loss: 0.0823 - accuracy: 0.9738 - val_loss: 4.0573 - val_accuracy: 0.5305\n",
      "Epoch 78/100\n",
      "50000/50000 [==============================] - 7s 141us/step - loss: 0.0888 - accuracy: 0.9710 - val_loss: 3.9908 - val_accuracy: 0.5343\n",
      "Epoch 79/100\n",
      "50000/50000 [==============================] - 8s 155us/step - loss: 0.0867 - accuracy: 0.9717 - val_loss: 4.0614 - val_accuracy: 0.5399\n",
      "Epoch 80/100\n",
      "50000/50000 [==============================] - 7s 141us/step - loss: 0.0661 - accuracy: 0.9790 - val_loss: 4.2741 - val_accuracy: 0.5316\n",
      "Epoch 81/100\n",
      "50000/50000 [==============================] - 8s 154us/step - loss: 0.0917 - accuracy: 0.9710 - val_loss: 4.1016 - val_accuracy: 0.5250\n",
      "Epoch 82/100\n",
      "50000/50000 [==============================] - 7s 136us/step - loss: 0.0807 - accuracy: 0.9746 - val_loss: 4.1633 - val_accuracy: 0.5292\n",
      "Epoch 83/100\n",
      "50000/50000 [==============================] - 7s 140us/step - loss: 0.0856 - accuracy: 0.9726 - val_loss: 4.0490 - val_accuracy: 0.5312\n",
      "Epoch 84/100\n",
      "50000/50000 [==============================] - 7s 144us/step - loss: 0.0741 - accuracy: 0.9757 - val_loss: 4.2070 - val_accuracy: 0.5443\n",
      "Epoch 85/100\n",
      "50000/50000 [==============================] - 8s 154us/step - loss: 0.0735 - accuracy: 0.9754 - val_loss: 4.2027 - val_accuracy: 0.5325\n",
      "Epoch 86/100\n",
      "50000/50000 [==============================] - 7s 146us/step - loss: 0.0693 - accuracy: 0.9777 - val_loss: 4.2504 - val_accuracy: 0.5342\n",
      "Epoch 87/100\n",
      "50000/50000 [==============================] - 8s 162us/step - loss: 0.0787 - accuracy: 0.9751 - val_loss: 4.1286 - val_accuracy: 0.5352\n",
      "Epoch 88/100\n",
      "50000/50000 [==============================] - 8s 163us/step - loss: 0.0757 - accuracy: 0.9762 - val_loss: 4.2565 - val_accuracy: 0.5323\n",
      "Epoch 89/100\n",
      "50000/50000 [==============================] - 7s 148us/step - loss: 0.0667 - accuracy: 0.9783 - val_loss: 4.4151 - val_accuracy: 0.5242\n",
      "Epoch 90/100\n",
      "50000/50000 [==============================] - 7s 145us/step - loss: 0.0845 - accuracy: 0.9738 - val_loss: 4.0755 - val_accuracy: 0.5322\n",
      "Epoch 91/100\n",
      "50000/50000 [==============================] - 7s 142us/step - loss: 0.0574 - accuracy: 0.9808 - val_loss: 4.3904 - val_accuracy: 0.5296\n",
      "Epoch 92/100\n",
      "50000/50000 [==============================] - 8s 151us/step - loss: 0.0711 - accuracy: 0.9765 - val_loss: 4.0963 - val_accuracy: 0.5217\n",
      "Epoch 93/100\n",
      "50000/50000 [==============================] - 7s 136us/step - loss: 0.0707 - accuracy: 0.9765 - val_loss: 4.3051 - val_accuracy: 0.5271\n",
      "Epoch 94/100\n",
      "50000/50000 [==============================] - 8s 159us/step - loss: 0.0653 - accuracy: 0.9790 - val_loss: 4.3749 - val_accuracy: 0.5371\n",
      "Epoch 95/100\n",
      "50000/50000 [==============================] - 7s 136us/step - loss: 0.0594 - accuracy: 0.9806 - val_loss: 4.4160 - val_accuracy: 0.5273\n",
      "Epoch 96/100\n",
      "50000/50000 [==============================] - 8s 151us/step - loss: 0.0831 - accuracy: 0.9736 - val_loss: 4.3426 - val_accuracy: 0.5342\n",
      "Epoch 97/100\n",
      "50000/50000 [==============================] - 7s 149us/step - loss: 0.0694 - accuracy: 0.9776 - val_loss: 4.3554 - val_accuracy: 0.5211\n",
      "Epoch 98/100\n",
      "50000/50000 [==============================] - 7s 146us/step - loss: 0.0695 - accuracy: 0.9784 - val_loss: 4.4056 - val_accuracy: 0.5290\n",
      "Epoch 99/100\n",
      "50000/50000 [==============================] - 7s 140us/step - loss: 0.0734 - accuracy: 0.9765 - val_loss: 4.2647 - val_accuracy: 0.5307\n",
      "Epoch 100/100\n",
      "50000/50000 [==============================] - 7s 149us/step - loss: 0.0608 - accuracy: 0.9807 - val_loss: 4.3364 - val_accuracy: 0.5276\n"
     ]
    },
    {
     "data": {
      "text/plain": [
       "<keras.callbacks.callbacks.History at 0x63f3c2208>"
      ]
     },
     "execution_count": 11,
     "metadata": {},
     "output_type": "execute_result"
    }
   ],
   "source": [
    "model.fit(x_train, y_train, \n",
    "          epochs=EPOCHS, \n",
    "          batch_size=BATCH_SIZE, \n",
    "          validation_data=(x_test, y_test), \n",
    "          shuffle=True)"
   ]
  },
  {
   "cell_type": "code",
   "execution_count": 13,
   "metadata": {},
   "outputs": [
    {
     "data": {
      "image/png": "[encoded data removed]",
      "text/plain": [
       "<Figure size 432x288 with 1 Axes>"
      ]
     },
     "metadata": {
      "needs_background": "light"
     },
     "output_type": "display_data"
    },
    {
     "data": {
      "image/png": "[encoded data removed]",
      "text/plain": [
       "<Figure size 432x288 with 1 Axes>"
      ]
     },
     "metadata": {
      "needs_background": "light"
     },
     "output_type": "display_data"
    }
   ],
   "source": [
    "import matplotlib.pyplot as plt\n",
    "\n",
    "\n",
    "train_loss = model.history.history[\"loss\"]\n",
    "valid_loss = model.history.history[\"val_loss\"]\n",
    "\n",
    "train_acc = model.history.history[\"accuracy\"]\n",
    "valid_acc = model.history.history[\"val_accuracy\"]\n",
    "\n",
    "plt.plot(range(len(train_loss)), train_loss, label=\"train loss\")\n",
    "plt.plot(range(len(valid_loss)), valid_loss, label=\"valid loss\")\n",
    "plt.legend()\n",
    "plt.title(\"Loss\")\n",
    "plt.show()\n",
    "\n",
    "plt.plot(range(len(train_acc)), train_acc, label=\"train accuracy\")\n",
    "plt.plot(range(len(valid_acc)), valid_acc, label=\"valid accuracy\")\n",
    "plt.legend()\n",
    "plt.title(\"Accuracy\")\n",
    "plt.show()"
   ]
  },
  {
   "cell_type": "code",
   "execution_count": null,
   "metadata": {},
   "outputs": [],
   "source": []
  }
 ],
 "metadata": {
  "kernelspec": {
   "display_name": "Python 3",
   "language": "python",
   "name": "python3"
  },
  "language_info": {
   "codemirror_mode": {
    "name": "ipython",
    "version": 3
   },
   "file_extension": ".py",
   "mimetype": "text/x-python",
   "name": "python",
   "nbconvert_exporter": "python",
   "pygments_lexer": "ipython3",
   "version": "3.7.3"
  }
 },
 "nbformat": 4,
 "nbformat_minor": 2
}
